{
 "cells": [
  {
   "cell_type": "markdown",
   "metadata": {
    "id": "UBxkNWp3xMve"
   },
   "source": [
    "# Part 2: 🎬 Applying NMF to the Movie Ratings Data"
   ]
  },
  {
   "cell_type": "code",
   "execution_count": 103,
   "metadata": {
    "colab": {
     "base_uri": "https://localhost:8080/"
    },
    "id": "CWAl0O1NxdfM",
    "outputId": "ccd39849-8a54-4056-f550-42cfaedd3f73"
   },
   "outputs": [
    {
     "name": "stdout",
     "output_type": "stream",
     "text": [
      "       55     10 -rw-------   1 root     root         9367 Jun 23 16:21 ./data/submission.csv\n",
      "       60   4601 -rw-------   1 root     root      4711088 Jun 23 17:14 ./data/movie_recommendation_files.zip\n",
      "       68    245 -rw-------   1 root     root       250402 Jun 23 17:12 ./data/movies.csv\n",
      "       71   3386 -rw-------   1 root     root      3466730 Jun 23 17:12 ./data/test.csv\n",
      "       74   7898 -rw-------   1 root     root      8086756 Jun 23 17:12 ./data/train.csv\n",
      "       77    108 -rw-------   1 root     root       110238 Jun 23 17:13 ./data/users.csv\n"
     ]
    }
   ],
   "source": [
    "# !unzip ./data/movie_recommendation_files.zip -d ./data/\n",
    "# !mv ./data/Files/* ./data/\n",
    "# !rm -d ./data/Files\n",
    "!find ./data/ -type f -mtime -30 -ls"
   ]
  },
  {
   "cell_type": "code",
   "execution_count": 105,
   "metadata": {
    "id": "gPlnwEygyfjr"
   },
   "outputs": [],
   "source": [
    "train = pd.read_csv('./data/train.csv')\n",
    "users = pd.read_csv('./data/users.csv')\n",
    "movies = pd.read_csv('./data/movies.csv')"
   ]
  },
  {
   "cell_type": "markdown",
   "metadata": {
    "id": "NzPQMnf1ztdS"
   },
   "source": [
    "### 🕶️ Create the Utility Matrix"
   ]
  },
  {
   "cell_type": "code",
   "execution_count": 106,
   "metadata": {
    "id": "FOACXl1Vz05q"
   },
   "outputs": [],
   "source": [
    "# Get ID mappings\n",
    "user_ids = sorted(train['uID'].unique())\n",
    "movie_ids = sorted(train['mID'].unique())\n",
    "user_map = {uid: i for i, uid in enumerate(user_ids)}\n",
    "movie_map = {mid: i for i, mid in enumerate(movie_ids)}\n",
    "\n",
    "# Shape\n",
    "n_users = len(user_ids)\n",
    "n_movies = len(movie_ids)\n",
    "\n",
    "import numpy as np\n",
    "\n",
    "# Create full utility matrix\n",
    "R = np.zeros((n_users, n_movies))\n",
    "\n",
    "for _, row in train.iterrows():\n",
    "    u_idx = user_map[row['uID']]\n",
    "    m_idx = movie_map[row['mID']]\n",
    "    R[u_idx, m_idx] = row['rating']"
   ]
  },
  {
   "cell_type": "markdown",
   "metadata": {
    "id": "XcrK-yAXz_J7"
   },
   "source": [
    "### 🍏 Apply NMF to Predict Missing Ratings"
   ]
  },
  {
   "cell_type": "code",
   "execution_count": 107,
   "metadata": {
    "id": "n8BzQe060EMy"
   },
   "outputs": [],
   "source": [
    "nmf = NMF(\n",
    "    n_components=20,\n",
    "    max_iter=500,\n",
    "    random_state=42069 # Nice # It never gets old...\n",
    "    )\n",
    "W = nmf.fit_transform(R)\n",
    "H = nmf.components_\n",
    "R_hat = np.dot(W, H)  # Reconstructed ratings matrix"
   ]
  },
  {
   "cell_type": "markdown",
   "metadata": {
    "id": "nBZGtcWm0IEj"
   },
   "source": [
    "### 💝 Evaluate on Test Data"
   ]
  },
  {
   "cell_type": "code",
   "execution_count": 110,
   "metadata": {
    "colab": {
     "base_uri": "https://localhost:8080/"
    },
    "id": "CFePY5Vi0XDR",
    "outputId": "188af446-4283-4e1b-d006-90ea989c023d"
   },
   "outputs": [
    {
     "name": "stdout",
     "output_type": "stream",
     "text": [
      "NMF RMSE on test set: 2.8609\n"
     ]
    }
   ],
   "source": [
    "from sklearn.metrics import mean_squared_error\n",
    "\n",
    "test = pd.read_csv('./data/test.csv')\n",
    "\n",
    "y_true = []\n",
    "y_pred = []\n",
    "\n",
    "for _, row in test.iterrows():\n",
    "    u_idx = user_map.get(row['uID'])\n",
    "    m_idx = movie_map.get(row['mID'])\n",
    "\n",
    "    if u_idx is not None and m_idx is not None:\n",
    "        y_true.append(row['rating'])\n",
    "        y_pred.append(R_hat[u_idx, m_idx])\n",
    "\n",
    "# Compute RMSE\n",
    "from math import sqrt\n",
    "rmse = sqrt(mean_squared_error(y_true, y_pred))\n",
    "print(f\"NMF RMSE on test set: {rmse:.4f}\")\n"
   ]
  },
  {
   "cell_type": "markdown",
   "metadata": {
    "id": "6-NxrZnz1cfC"
   },
   "source": [
    "### 🔨 Tinkering"
   ]
  },
  {
   "cell_type": "code",
   "execution_count": 114,
   "metadata": {
    "colab": {
     "base_uri": "https://localhost:8080/"
    },
    "id": "Qx2keUcY1g9o",
    "outputId": "66ef207b-a395-4e27-978d-7039ba7df717"
   },
   "outputs": [
    {
     "name": "stdout",
     "output_type": "stream",
     "text": [
      "Global average rating: 3.5816\n",
      "Global mean baseline RMSE: 1.1162\n"
     ]
    }
   ],
   "source": [
    "from sklearn.metrics import mean_squared_error\n",
    "from math import sqrt\n",
    "import pandas as pd\n",
    "\n",
    "# Compute global average rating from training data\n",
    "global_avg = train['rating'].mean()\n",
    "print(f\"Global average rating: {global_avg:.4f}\")\n",
    "\n",
    "# Predict global mean for all test entries\n",
    "y_true = test['rating'].tolist()\n",
    "y_pred = [global_avg] * len(y_true)\n",
    "\n",
    "# Compute RMSE\n",
    "baseline_rmse = sqrt(mean_squared_error(y_true, y_pred))\n",
    "print(f\"Global mean baseline RMSE: {baseline_rmse:.4f}\")"
   ]
  },
  {
   "cell_type": "markdown",
   "metadata": {
    "id": "ThpfGfXf3kE3"
   },
   "source": [
    "### 🍮 Discuss the Results"
   ]
  },
  {
   "cell_type": "markdown",
   "metadata": {
    "id": "vcEHwQKq3jvN"
   },
   "source": [
    "## 🧩 NMF vs. Baseline Comparison\n",
    "\n",
    "The `sklearn` NMF model achieved an RMSE of **2.86**, which is significantly worse than a naive baseline model that predicts the global average rating for every user-item pair.\n",
    "\n",
    "| Model                      | RMSE   |\n",
    "|---------------------------|--------|\n",
    "| Global Mean Baseline      | 1.1162 |\n",
    "| NMF (scikit-learn, k=20)  | 2.8609 |\n",
    "\n",
    "My result highlights a major limitation of the NMF implemented in `sklearn`. NMF assumes all unobserved ratings are `0`. This distorts predicted values.\n",
    "\n",
    "By populating with the `global_avg`, the baseline model is seemingly unaffected by missing data making it a stronger default approach.\n",
    "\n",
    "To improve performance, it was recommended to me to use libraries like `Surprise`, which properly handle sparse rating data with implicit masking and bias modeling. Unfortunately, that would have required a downgrade of my `numpy` version. I opted not to do that because I am a chicken."
   ]
  }
 ],
 "metadata": {
  "colab": {
   "collapsed_sections": [
    "xJyytYWiTSDv"
   ],
   "provenance": [],
   "toc_visible": true
  },
  "kernelspec": {
   "display_name": "Python 3 (ipykernel)",
   "language": "python",
   "name": "python3"
  },
  "language_info": {
   "codemirror_mode": {
    "name": "ipython",
    "version": 3
   },
   "file_extension": ".py",
   "mimetype": "text/x-python",
   "name": "python",
   "nbconvert_exporter": "python",
   "pygments_lexer": "ipython3",
   "version": "3.12.4"
  }
 },
 "nbformat": 4,
 "nbformat_minor": 4
}
