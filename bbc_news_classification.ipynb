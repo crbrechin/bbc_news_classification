{
  "nbformat": 4,
  "nbformat_minor": 0,
  "metadata": {
    "colab": {
      "provenance": [],
      "collapsed_sections": [
        "xJyytYWiTSDv"
      ]
    },
    "kernelspec": {
      "name": "python3",
      "display_name": "Python 3"
    },
    "language_info": {
      "name": "python"
    }
  },
  "cells": [
    {
      "cell_type": "markdown",
      "source": [
        "# 🗞️ BBC News Classification"
      ],
      "metadata": {
        "id": "zJIJwSuyPQB3"
      }
    },
    {
      "cell_type": "markdown",
      "source": [
        "###  🕊️ Challenge Overview"
      ],
      "metadata": {
        "id": "W53L9OAVPhkV"
      }
    },
    {
      "cell_type": "markdown",
      "source": [
        "#### 📝 Description"
      ],
      "metadata": {
        "id": "pdg_BcP4QQk1"
      }
    },
    {
      "cell_type": "markdown",
      "source": [
        "Text documents are one of the richest sources of data for businesses.\n",
        "\n",
        "In this competition, we will use a **public dataset from the BBC** consisting of **2,225 news articles**, each labeled with one of the following five categories:\n",
        "\n",
        "- 🏢 business\n",
        "- 🎬 entertainment\n",
        "- 🏛 politics\n",
        "- 🏅 sport\n",
        "- 💻 tech\n"
      ],
      "metadata": {
        "id": "BnlbCQO0QQu0"
      }
    },
    {
      "cell_type": "markdown",
      "source": [
        "#### 📚 Dataset Overview"
      ],
      "metadata": {
        "id": "g_9BJ5QWQQy8"
      }
    },
    {
      "cell_type": "markdown",
      "source": [
        "The dataset is split as follows:\n",
        "\n",
        "- **1,490 articles** for training\n",
        "- **735 articles** for testing"
      ],
      "metadata": {
        "id": "3s_UmEY7QQ2W"
      }
    },
    {
      "cell_type": "markdown",
      "source": [
        "#### 🎯 Objective"
      ],
      "metadata": {
        "id": "4YKxqQ2HQQ57"
      }
    },
    {
      "cell_type": "markdown",
      "source": [
        "Build a model that accurately classifies previously unseen articles into one of the five categories."
      ],
      "metadata": {
        "id": "Bxt8p4VpQQ-U"
      }
    },
    {
      "cell_type": "markdown",
      "source": [],
      "metadata": {
        "id": "bI44M_tMQRDM"
      }
    },
    {
      "cell_type": "markdown",
      "source": [
        "#### 🔗 Helpful Resource"
      ],
      "metadata": {
        "id": "oYB7dXG4QRJm"
      }
    },
    {
      "cell_type": "markdown",
      "source": [
        "A helpful resource for understanding the problem:\n",
        "[Google Cloud Blog - Problem-Solving with ML: Automatic Document Classification](https://cloud.google.com/blog/products/gcp/problem-solving-with-ml-automatic-document-classification)"
      ],
      "metadata": {
        "id": "5QAusVamQRQ0"
      }
    },
    {
      "cell_type": "markdown",
      "source": [
        "#### 📊 Evaluation"
      ],
      "metadata": {
        "id": "QOP4BoAoQRdU"
      }
    },
    {
      "cell_type": "markdown",
      "source": [
        "- **Metric**: Accuracy\n",
        "- 🧾 **Submission Format**:\n",
        "  - File must contain a header\n",
        "  - Two required columns:\n",
        "    - `ArticleId` (from test file)\n",
        "    - `Category` (one of: sport, tech, business, entertainment, politics)"
      ],
      "metadata": {
        "id": "dsR1f6IEQ3Ut"
      }
    },
    {
      "cell_type": "markdown",
      "source": [
        "#### 💡 Tips"
      ],
      "metadata": {
        "id": "7R_gWLp_Q4Gy"
      }
    },
    {
      "cell_type": "markdown",
      "source": [
        "Ensure your output matches the required structure for successful evaluation."
      ],
      "metadata": {
        "id": "TnuKuW9hQ5Wy"
      }
    },
    {
      "cell_type": "markdown",
      "source": [
        "## 🖥️ Initialization"
      ],
      "metadata": {
        "id": "cpF5HJuNRETy"
      }
    },
    {
      "cell_type": "code",
      "source": [
        "# mount `MyDrive`\n",
        "from google.colab import drive\n",
        "drive.mount('/content/drive')\n",
        "%cd /content/drive/MyDrive/notebooks/dtsa-5510/week_4_programming_assignment/"
      ],
      "metadata": {
        "colab": {
          "base_uri": "https://localhost:8080/"
        },
        "id": "mX8liNPIRPJS",
        "outputId": "f67cc22c-8c02-4c71-b224-f481f6e8ab33"
      },
      "execution_count": 2,
      "outputs": [
        {
          "output_type": "stream",
          "name": "stdout",
          "text": [
            "Mounted at /content/drive\n",
            "/content/drive/MyDrive/notebooks/dtsa-5510/week_4_programming_assignment\n"
          ]
        }
      ]
    },
    {
      "cell_type": "code",
      "source": [
        "from google.colab import userdata\n",
        "import os\n",
        "import json\n",
        "# Get the API key from the Secrets Manager\n",
        "kaggle_api_key = userdata.get('KAGGLE_API_KEY')\n",
        "\n",
        "# Create the .kaggle directory and the kaggle.json file\n",
        "!mkdir -p ~/.kaggle\n",
        "!echo \"$kaggle_api_key\" > ~/.kaggle/kaggle.json\n",
        "!chmod 600 ~/.kaggle/kaggle.json\n",
        "!ls -l ~/.kaggle\n",
        "\n",
        "# Assuming both secrets are available\n",
        "kaggle_username = userdata.get(\"KAGGLE_USERNAME\")  # You need to set this too\n",
        "kaggle_key = userdata.get(\"KAGGLE_API_KEY\")\n",
        "\n",
        "# Double-check both are present\n",
        "assert kaggle_username is not None, \"Missing KAGGLE_USERNAME\"\n",
        "assert kaggle_key is not None, \"Missing KAGGLE_API_KEY\"\n",
        "\n",
        "# Write the kaggle.json file\n",
        "os.makedirs(\"/root/.kaggle\", exist_ok=True)\n",
        "with open(\"/root/.kaggle/kaggle.json\", \"w\") as f:\n",
        "    json.dump({\"username\": kaggle_username, \"key\": kaggle_key}, f)\n",
        "\n",
        "os.chmod(\"/root/.kaggle/kaggle.json\", 0o600)\n",
        "\n",
        "\n",
        "# Write kaggle.json\n",
        "kaggle_config = {\n",
        "    \"username\": kaggle_username,\n",
        "    \"key\": kaggle_key\n",
        "}"
      ],
      "metadata": {
        "colab": {
          "base_uri": "https://localhost:8080/"
        },
        "id": "7f6VJYsURy2h",
        "outputId": "8a4ca25f-a147-4ace-bb96-bdf8b7c7c2eb"
      },
      "execution_count": 3,
      "outputs": [
        {
          "output_type": "stream",
          "name": "stdout",
          "text": [
            "total 4\n",
            "-rw------- 1 root root 33 Jun 23 14:21 kaggle.json\n"
          ]
        }
      ]
    },
    {
      "cell_type": "markdown",
      "source": [
        "### 🥣 Load Data from Kaggle"
      ],
      "metadata": {
        "id": "AVUjgNU1SIFw"
      }
    },
    {
      "cell_type": "code",
      "source": [
        "# # Copy the kaggle files\n",
        "# !kaggle competitions download -c learn-ai-bbc -p /content || echo \"Failed\"\n",
        "# # Move the files\n",
        "# !mv /content/learn-ai-bbc.zip /content/drive/MyDrive/notebooks/dtsa-5510/week_4_programming_assignment/data/\n",
        "# %cd /content/drive/MyDrive/notebooks/dtsa-5510/week_4_programming_assignment/data/\n",
        "# !ls -l /content/drive/MyDrive/notebooks/dtsa-5510/week_4_programming_assignment/data/\n",
        "#  # Extract the files\n",
        "# !unzip /content/drive/MyDrive/notebooks/dtsa-5510/week_4_programming_assignment/data/learn-ai-bbc.zip -d ./data"
      ],
      "metadata": {
        "id": "LlRVZNa5SJPy"
      },
      "execution_count": 4,
      "outputs": []
    },
    {
      "cell_type": "markdown",
      "source": [
        "### 🗽 Bring in the Libraries"
      ],
      "metadata": {
        "id": "icJt5M_fVOq9"
      }
    },
    {
      "cell_type": "code",
      "source": [
        "import pandas as pd\n",
        "import numpy as np\n",
        "import matplotlib.pyplot as plt\n",
        "import seaborn as sns\n",
        "# c'est magique\n",
        "%matplotlib inline"
      ],
      "metadata": {
        "id": "iMmXU3qrVVoM"
      },
      "execution_count": 5,
      "outputs": []
    },
    {
      "cell_type": "markdown",
      "source": [
        "## 📁 Load and Inspect the Data"
      ],
      "metadata": {
        "id": "xJyytYWiTSDv"
      }
    },
    {
      "cell_type": "code",
      "source": [
        "data = pd.read_csv('./data/BBC News Train.csv')\n",
        "data.head()"
      ],
      "metadata": {
        "colab": {
          "base_uri": "https://localhost:8080/",
          "height": 0
        },
        "id": "kWmPrP_UTgKP",
        "outputId": "63ad4fb1-29ed-4dd3-e46b-0cd8d855953e"
      },
      "execution_count": 6,
      "outputs": [
        {
          "output_type": "execute_result",
          "data": {
            "text/plain": [
              "   ArticleId                                               Text  Category\n",
              "0       1833  worldcom ex-boss launches defence lawyers defe...  business\n",
              "1        154  german business confidence slides german busin...  business\n",
              "2       1101  bbc poll indicates economic gloom citizens in ...  business\n",
              "3       1976  lifestyle  governs mobile choice  faster  bett...      tech\n",
              "4        917  enron bosses in $168m payout eighteen former e...  business"
            ],
            "text/html": [
              "\n",
              "  <div id=\"df-d3a62e6c-f3fc-43de-9f3b-43d787c80141\" class=\"colab-df-container\">\n",
              "    <div>\n",
              "<style scoped>\n",
              "    .dataframe tbody tr th:only-of-type {\n",
              "        vertical-align: middle;\n",
              "    }\n",
              "\n",
              "    .dataframe tbody tr th {\n",
              "        vertical-align: top;\n",
              "    }\n",
              "\n",
              "    .dataframe thead th {\n",
              "        text-align: right;\n",
              "    }\n",
              "</style>\n",
              "<table border=\"1\" class=\"dataframe\">\n",
              "  <thead>\n",
              "    <tr style=\"text-align: right;\">\n",
              "      <th></th>\n",
              "      <th>ArticleId</th>\n",
              "      <th>Text</th>\n",
              "      <th>Category</th>\n",
              "    </tr>\n",
              "  </thead>\n",
              "  <tbody>\n",
              "    <tr>\n",
              "      <th>0</th>\n",
              "      <td>1833</td>\n",
              "      <td>worldcom ex-boss launches defence lawyers defe...</td>\n",
              "      <td>business</td>\n",
              "    </tr>\n",
              "    <tr>\n",
              "      <th>1</th>\n",
              "      <td>154</td>\n",
              "      <td>german business confidence slides german busin...</td>\n",
              "      <td>business</td>\n",
              "    </tr>\n",
              "    <tr>\n",
              "      <th>2</th>\n",
              "      <td>1101</td>\n",
              "      <td>bbc poll indicates economic gloom citizens in ...</td>\n",
              "      <td>business</td>\n",
              "    </tr>\n",
              "    <tr>\n",
              "      <th>3</th>\n",
              "      <td>1976</td>\n",
              "      <td>lifestyle  governs mobile choice  faster  bett...</td>\n",
              "      <td>tech</td>\n",
              "    </tr>\n",
              "    <tr>\n",
              "      <th>4</th>\n",
              "      <td>917</td>\n",
              "      <td>enron bosses in $168m payout eighteen former e...</td>\n",
              "      <td>business</td>\n",
              "    </tr>\n",
              "  </tbody>\n",
              "</table>\n",
              "</div>\n",
              "    <div class=\"colab-df-buttons\">\n",
              "\n",
              "  <div class=\"colab-df-container\">\n",
              "    <button class=\"colab-df-convert\" onclick=\"convertToInteractive('df-d3a62e6c-f3fc-43de-9f3b-43d787c80141')\"\n",
              "            title=\"Convert this dataframe to an interactive table.\"\n",
              "            style=\"display:none;\">\n",
              "\n",
              "  <svg xmlns=\"http://www.w3.org/2000/svg\" height=\"24px\" viewBox=\"0 -960 960 960\">\n",
              "    <path d=\"M120-120v-720h720v720H120Zm60-500h600v-160H180v160Zm220 220h160v-160H400v160Zm0 220h160v-160H400v160ZM180-400h160v-160H180v160Zm440 0h160v-160H620v160ZM180-180h160v-160H180v160Zm440 0h160v-160H620v160Z\"/>\n",
              "  </svg>\n",
              "    </button>\n",
              "\n",
              "  <style>\n",
              "    .colab-df-container {\n",
              "      display:flex;\n",
              "      gap: 12px;\n",
              "    }\n",
              "\n",
              "    .colab-df-convert {\n",
              "      background-color: #E8F0FE;\n",
              "      border: none;\n",
              "      border-radius: 50%;\n",
              "      cursor: pointer;\n",
              "      display: none;\n",
              "      fill: #1967D2;\n",
              "      height: 32px;\n",
              "      padding: 0 0 0 0;\n",
              "      width: 32px;\n",
              "    }\n",
              "\n",
              "    .colab-df-convert:hover {\n",
              "      background-color: #E2EBFA;\n",
              "      box-shadow: 0px 1px 2px rgba(60, 64, 67, 0.3), 0px 1px 3px 1px rgba(60, 64, 67, 0.15);\n",
              "      fill: #174EA6;\n",
              "    }\n",
              "\n",
              "    .colab-df-buttons div {\n",
              "      margin-bottom: 4px;\n",
              "    }\n",
              "\n",
              "    [theme=dark] .colab-df-convert {\n",
              "      background-color: #3B4455;\n",
              "      fill: #D2E3FC;\n",
              "    }\n",
              "\n",
              "    [theme=dark] .colab-df-convert:hover {\n",
              "      background-color: #434B5C;\n",
              "      box-shadow: 0px 1px 3px 1px rgba(0, 0, 0, 0.15);\n",
              "      filter: drop-shadow(0px 1px 2px rgba(0, 0, 0, 0.3));\n",
              "      fill: #FFFFFF;\n",
              "    }\n",
              "  </style>\n",
              "\n",
              "    <script>\n",
              "      const buttonEl =\n",
              "        document.querySelector('#df-d3a62e6c-f3fc-43de-9f3b-43d787c80141 button.colab-df-convert');\n",
              "      buttonEl.style.display =\n",
              "        google.colab.kernel.accessAllowed ? 'block' : 'none';\n",
              "\n",
              "      async function convertToInteractive(key) {\n",
              "        const element = document.querySelector('#df-d3a62e6c-f3fc-43de-9f3b-43d787c80141');\n",
              "        const dataTable =\n",
              "          await google.colab.kernel.invokeFunction('convertToInteractive',\n",
              "                                                    [key], {});\n",
              "        if (!dataTable) return;\n",
              "\n",
              "        const docLinkHtml = 'Like what you see? Visit the ' +\n",
              "          '<a target=\"_blank\" href=https://colab.research.google.com/notebooks/data_table.ipynb>data table notebook</a>'\n",
              "          + ' to learn more about interactive tables.';\n",
              "        element.innerHTML = '';\n",
              "        dataTable['output_type'] = 'display_data';\n",
              "        await google.colab.output.renderOutput(dataTable, element);\n",
              "        const docLink = document.createElement('div');\n",
              "        docLink.innerHTML = docLinkHtml;\n",
              "        element.appendChild(docLink);\n",
              "      }\n",
              "    </script>\n",
              "  </div>\n",
              "\n",
              "\n",
              "    <div id=\"df-01128cc3-5a4c-4382-a1a7-240f55212045\">\n",
              "      <button class=\"colab-df-quickchart\" onclick=\"quickchart('df-01128cc3-5a4c-4382-a1a7-240f55212045')\"\n",
              "                title=\"Suggest charts\"\n",
              "                style=\"display:none;\">\n",
              "\n",
              "<svg xmlns=\"http://www.w3.org/2000/svg\" height=\"24px\"viewBox=\"0 0 24 24\"\n",
              "     width=\"24px\">\n",
              "    <g>\n",
              "        <path d=\"M19 3H5c-1.1 0-2 .9-2 2v14c0 1.1.9 2 2 2h14c1.1 0 2-.9 2-2V5c0-1.1-.9-2-2-2zM9 17H7v-7h2v7zm4 0h-2V7h2v10zm4 0h-2v-4h2v4z\"/>\n",
              "    </g>\n",
              "</svg>\n",
              "      </button>\n",
              "\n",
              "<style>\n",
              "  .colab-df-quickchart {\n",
              "      --bg-color: #E8F0FE;\n",
              "      --fill-color: #1967D2;\n",
              "      --hover-bg-color: #E2EBFA;\n",
              "      --hover-fill-color: #174EA6;\n",
              "      --disabled-fill-color: #AAA;\n",
              "      --disabled-bg-color: #DDD;\n",
              "  }\n",
              "\n",
              "  [theme=dark] .colab-df-quickchart {\n",
              "      --bg-color: #3B4455;\n",
              "      --fill-color: #D2E3FC;\n",
              "      --hover-bg-color: #434B5C;\n",
              "      --hover-fill-color: #FFFFFF;\n",
              "      --disabled-bg-color: #3B4455;\n",
              "      --disabled-fill-color: #666;\n",
              "  }\n",
              "\n",
              "  .colab-df-quickchart {\n",
              "    background-color: var(--bg-color);\n",
              "    border: none;\n",
              "    border-radius: 50%;\n",
              "    cursor: pointer;\n",
              "    display: none;\n",
              "    fill: var(--fill-color);\n",
              "    height: 32px;\n",
              "    padding: 0;\n",
              "    width: 32px;\n",
              "  }\n",
              "\n",
              "  .colab-df-quickchart:hover {\n",
              "    background-color: var(--hover-bg-color);\n",
              "    box-shadow: 0 1px 2px rgba(60, 64, 67, 0.3), 0 1px 3px 1px rgba(60, 64, 67, 0.15);\n",
              "    fill: var(--button-hover-fill-color);\n",
              "  }\n",
              "\n",
              "  .colab-df-quickchart-complete:disabled,\n",
              "  .colab-df-quickchart-complete:disabled:hover {\n",
              "    background-color: var(--disabled-bg-color);\n",
              "    fill: var(--disabled-fill-color);\n",
              "    box-shadow: none;\n",
              "  }\n",
              "\n",
              "  .colab-df-spinner {\n",
              "    border: 2px solid var(--fill-color);\n",
              "    border-color: transparent;\n",
              "    border-bottom-color: var(--fill-color);\n",
              "    animation:\n",
              "      spin 1s steps(1) infinite;\n",
              "  }\n",
              "\n",
              "  @keyframes spin {\n",
              "    0% {\n",
              "      border-color: transparent;\n",
              "      border-bottom-color: var(--fill-color);\n",
              "      border-left-color: var(--fill-color);\n",
              "    }\n",
              "    20% {\n",
              "      border-color: transparent;\n",
              "      border-left-color: var(--fill-color);\n",
              "      border-top-color: var(--fill-color);\n",
              "    }\n",
              "    30% {\n",
              "      border-color: transparent;\n",
              "      border-left-color: var(--fill-color);\n",
              "      border-top-color: var(--fill-color);\n",
              "      border-right-color: var(--fill-color);\n",
              "    }\n",
              "    40% {\n",
              "      border-color: transparent;\n",
              "      border-right-color: var(--fill-color);\n",
              "      border-top-color: var(--fill-color);\n",
              "    }\n",
              "    60% {\n",
              "      border-color: transparent;\n",
              "      border-right-color: var(--fill-color);\n",
              "    }\n",
              "    80% {\n",
              "      border-color: transparent;\n",
              "      border-right-color: var(--fill-color);\n",
              "      border-bottom-color: var(--fill-color);\n",
              "    }\n",
              "    90% {\n",
              "      border-color: transparent;\n",
              "      border-bottom-color: var(--fill-color);\n",
              "    }\n",
              "  }\n",
              "</style>\n",
              "\n",
              "      <script>\n",
              "        async function quickchart(key) {\n",
              "          const quickchartButtonEl =\n",
              "            document.querySelector('#' + key + ' button');\n",
              "          quickchartButtonEl.disabled = true;  // To prevent multiple clicks.\n",
              "          quickchartButtonEl.classList.add('colab-df-spinner');\n",
              "          try {\n",
              "            const charts = await google.colab.kernel.invokeFunction(\n",
              "                'suggestCharts', [key], {});\n",
              "          } catch (error) {\n",
              "            console.error('Error during call to suggestCharts:', error);\n",
              "          }\n",
              "          quickchartButtonEl.classList.remove('colab-df-spinner');\n",
              "          quickchartButtonEl.classList.add('colab-df-quickchart-complete');\n",
              "        }\n",
              "        (() => {\n",
              "          let quickchartButtonEl =\n",
              "            document.querySelector('#df-01128cc3-5a4c-4382-a1a7-240f55212045 button');\n",
              "          quickchartButtonEl.style.display =\n",
              "            google.colab.kernel.accessAllowed ? 'block' : 'none';\n",
              "        })();\n",
              "      </script>\n",
              "    </div>\n",
              "\n",
              "    </div>\n",
              "  </div>\n"
            ],
            "application/vnd.google.colaboratory.intrinsic+json": {
              "type": "dataframe",
              "variable_name": "data",
              "summary": "{\n  \"name\": \"data\",\n  \"rows\": 1490,\n  \"fields\": [\n    {\n      \"column\": \"ArticleId\",\n      \"properties\": {\n        \"dtype\": \"number\",\n        \"std\": 641,\n        \"min\": 2,\n        \"max\": 2224,\n        \"num_unique_values\": 1490,\n        \"samples\": [\n          2160,\n          1360,\n          302\n        ],\n        \"semantic_type\": \"\",\n        \"description\": \"\"\n      }\n    },\n    {\n      \"column\": \"Text\",\n      \"properties\": {\n        \"dtype\": \"string\",\n        \"num_unique_values\": 1440,\n        \"samples\": [\n          \"bellamy under new fire newcastle boss graeme souness has reopened his dispute with craig bellamy after claiming the welshman was  not good enough  for the magpies. bellamy left newcastle to join celtic on loan after a major row with souness. souness - who refused to refer to the 25-year-old by name - said bellamy did not score enough goals  the chap that s just gone has scored 9.3 goals a season in his time in senior football - half of those weren t even in the top flight   said souness.  that s not good enough for a striker at a club like this.  we need to have two strikers who are near 20 goals on a regular basis.   bellamy turned down a move to birmingham in favour of joining celtic after a disagreement about the welsh international playing out of position quickly escalated. earlier in the week  souness had said that he risked losing the confidence of the players and damaging his own reputation if he had not taken a hard line after bellamy accused him of lying.   there are certain things you can forgive and forget   said souness.  but if i d been seen to be weak in this case there was no future for me with the players in the dressing room or any job i have after newcastle.  he could then return to st james  park - and he says that he wants to. however  it would seem unlikely he will play for newcastle again as long as souness remains in charge.\",\n          \"schools to take part in mock poll record numbers of schools across the uk are to take part in a mock general election backed by the government.  some 600 schools have already signed up for the y vote mock elections 2005 run by the hansard society and aimed at boosting interest in politics. pupils in the schools taking part will learn the skills of speech writers  canvassers and political candidates. schools minister stephen twigg said engaging young people s interest was  essential  to the future of democracy.  he added: said  young people who are engaged and motivated by the political process are essential to the future health of our democracy.  the mock elections initiative provides an opportunity for pupils to develop their own understanding of how the democratic process works and why it matters.  by experiencing the election process first hand - from running a campaign to the declaration of the final result - we hope that young people will develop the enthusiasm to take part in the future.  the hansard society  the electoral commission and the department for education and skills are running the programme. pupils will stand as party candidates  speech writers and canvassers. michael raftery  project manager at the hansard society  said:  the y vote mock elections for schools mirror the excitement and buzz of a real election  raising awareness of citizenship  and the benefits of active democracy.  the mock votes will take place around 5 may  widely expected to be the date of the general election. information packs  including ballot papers and manifesto guides  with elections happening in early may were sent out to the 3 000 schools invited to take part.\",\n          \"rap boss arrested over drug find rap mogul marion  suge  knight has been arrested for violating his parole after he was allegedly found with marijuana.  he was arrested in barstow  california  on saturday following an alleged traffic offence. he is expected to be transferred to a state prison while a decision is made on whether he should be released. mr knight  founder of death row records  served a 10-month jail term in 2004 for punching a man while on parole for an assault conviction. police said mr knight was stopped on saturday after performing an illegal u-turn and a search of his car allegedly found marijuana.  he is also accused of not having insurance. a 18-year-old woman in the car was arrested for providing false information and having a fake id card. she was later released. it was his second alleged violation  having previously served half of a nine-year sentence for breaking the terms of his parole. mr knight  39  was jailed in october 1996 following his involvement in a fight with a rival gang just hours before rapper tupac shakur was killed in a las vegas drive-by shooting. he was driving shakur s car at the time and was shot in the head. at the time he was on probation for assaulting two musicians. mr knight  a former bodyguard  set up death row records in the early 1990s with shakur and dr dre among his protegees. but the label has always been dogged by allegations it supports gang culture and fuels the east and west coast rap rivalry.\"\n        ],\n        \"semantic_type\": \"\",\n        \"description\": \"\"\n      }\n    },\n    {\n      \"column\": \"Category\",\n      \"properties\": {\n        \"dtype\": \"category\",\n        \"num_unique_values\": 5,\n        \"samples\": [\n          \"tech\",\n          \"entertainment\",\n          \"politics\"\n        ],\n        \"semantic_type\": \"\",\n        \"description\": \"\"\n      }\n    }\n  ]\n}"
            }
          },
          "metadata": {},
          "execution_count": 6
        }
      ]
    },
    {
      "cell_type": "code",
      "source": [
        "# Data info\n",
        "data.info()"
      ],
      "metadata": {
        "colab": {
          "base_uri": "https://localhost:8080/"
        },
        "id": "RDsK5ryvV7Jc",
        "outputId": "900788ee-c4ed-4521-91fc-109dae6da7ef"
      },
      "execution_count": 7,
      "outputs": [
        {
          "output_type": "stream",
          "name": "stdout",
          "text": [
            "<class 'pandas.core.frame.DataFrame'>\n",
            "RangeIndex: 1490 entries, 0 to 1489\n",
            "Data columns (total 3 columns):\n",
            " #   Column     Non-Null Count  Dtype \n",
            "---  ------     --------------  ----- \n",
            " 0   ArticleId  1490 non-null   int64 \n",
            " 1   Text       1490 non-null   object\n",
            " 2   Category   1490 non-null   object\n",
            "dtypes: int64(1), object(2)\n",
            "memory usage: 35.1+ KB\n"
          ]
        }
      ]
    },
    {
      "cell_type": "markdown",
      "source": [
        "## 🧼 Clean the Data"
      ],
      "metadata": {
        "id": "z2PkgBSVXWeK"
      }
    },
    {
      "cell_type": "code",
      "source": [
        "import re\n",
        "from sklearn.feature_extraction.text import ENGLISH_STOP_WORDS\n",
        "\n",
        "# Normalize column names\n",
        "data.columns = data.columns.str.strip().str.lower().str.replace(' ', '_')\n",
        "\n",
        "# Rename `ArticleID` to `article_id`\n",
        "data = data.rename(columns={'articleid': 'article_id'})\n",
        "\n",
        "# Normalize rows and filter out unnecessary words\n",
        "def clean_text(text):\n",
        "  # Lowercase\n",
        "  text = text.lower()\n",
        "  # Remove punctuation and digits\n",
        "  text = re.sub(r'[^a-z\\s]', '', text)\n",
        "  # Remove extra whitespace\n",
        "  text = re.sub(r'\\s+', ' ', text).strip()\n",
        "  # Optionally remove stopwords (if needed)\n",
        "  return text\n",
        "\n",
        "def remove_stopwords(text):\n",
        "  return ' '.join([word for word in text.split() if word not in ENGLISH_STOP_WORDS])\n",
        "\n",
        "data['text'] = data['text'].apply(clean_text)\n",
        "\n",
        "data['text'] = data['text'].apply(remove_stopwords)"
      ],
      "metadata": {
        "id": "kLfOpRDvXZRJ"
      },
      "execution_count": 8,
      "outputs": []
    },
    {
      "cell_type": "code",
      "source": [
        "# Show class distribution\n",
        "data['category'].value_counts()\n",
        "\n",
        "# Are there any longbois?\n",
        "data['text_length'] = data['text'].str.len()\n",
        "\n",
        "# Plot distribution of text length per category\n",
        "plt.figure(figsize=(10, 6))\n",
        "sns.histplot(data=data, x='text_length', hue='category', multiple='stack', bins=50, kde=False)\n",
        "plt.title(\"Distribution of Text Length by Category\")\n",
        "plt.xlabel(\"Text Length (characters)\")\n",
        "plt.ylabel(\"Count\")\n",
        "plt.tight_layout()\n",
        "plt.show()\n"
      ],
      "metadata": {
        "colab": {
          "base_uri": "https://localhost:8080/",
          "height": 607
        },
        "id": "zA7ru-cEU6qO",
        "outputId": "98f7fa76-12a5-4905-f691-72f06076dbea"
      },
      "execution_count": 12,
      "outputs": [
        {
          "output_type": "display_data",
          "data": {
            "text/plain": [
              "<Figure size 1000x600 with 1 Axes>"
            ],
            "image/png": "[encoded data removed]"
          },
          "metadata": {}
        }
      ]
    },
    {
      "cell_type": "code",
      "source": [
        "import seaborn as sns\n",
        "import matplotlib.pyplot as plt\n",
        "\n",
        "# Calculate text length if not already done\n",
        "data['text_length'] = data['text'].str.len()\n",
        "\n",
        "# Define consistent color palette\n",
        "palette = {\n",
        "    \"business\": \"#1f77b4\",\n",
        "    \"tech\": \"#ff7f0e\",\n",
        "    \"politics\": \"#2ca02c\",\n",
        "    \"sport\": \"#d62728\",\n",
        "    \"entertainment\": \"#9467bd\"\n",
        "}\n",
        "\n",
        "# Fix the bar widths\n",
        "min_len = data['text_length'].min()\n",
        "max_len = data['text_length'].max()\n",
        "bins = np.linspace(min_len, max_len, 51)  # 50 equal-width bins\n",
        "\n",
        "# Create FacetGrid with shared bins\n",
        "g = sns.FacetGrid(data, col=\"category\", col_wrap=3, height=4, sharex=True, sharey=True,\n",
        "                  palette=palette, hue=\"category\")\n",
        "g.map(sns.histplot, \"text_length\", bins=bins, kde=False, color=None)\n",
        "\n",
        "g.set_titles(\"{col_name}\")\n",
        "g.set_axis_labels(\"Text Length (characters)\", \"Count\")\n",
        "plt.tight_layout()\n",
        "plt.show()"
      ],
      "metadata": {
        "colab": {
          "base_uri": "https://localhost:8080/",
          "height": 806
        },
        "id": "twmNDkBkLE5F",
        "outputId": "b0bc7bef-25ca-40e2-b940-b3861a26161c"
      },
      "execution_count": 19,
      "outputs": [
        {
          "output_type": "display_data",
          "data": {
            "text/plain": [
              "<Figure size 1200x800 with 5 Axes>"
            ],
            "image/png": "[encoded data removed]"
          },
          "metadata": {}
        }
      ]
    },
    {
      "cell_type": "markdown",
      "source": [
        "### 🦖 Apply TF-IDF"
      ],
      "metadata": {
        "id": "EFQ0_agdU7zO"
      }
    },
    {
      "cell_type": "code",
      "source": [
        "from sklearn.feature_extraction.text import TfidfVectorizer\n",
        "\n",
        "# Initialize and fit TF-IDF vectorizer\n",
        "vectorizer = TfidfVectorizer(\n",
        "    max_features=1000, # Keep it small\n",
        "    stop_words='english',\n",
        "    lowercase=True\n",
        "    )\n",
        "X_tfidf = vectorizer.fit_transform(data['text'])\n",
        "\n",
        "# Optional: Convert sparse matrix to dense DataFrame for exploration\n",
        "tfidf_df = pd.DataFrame(\n",
        "    X_tfidf.toarray(),\n",
        "    columns=vectorizer.get_feature_names_out()\n",
        "    )\n",
        "\n",
        "# Optional: Attach labels for downstream use\n",
        "tfidf_df['category'] = data['category']"
      ],
      "metadata": {
        "id": "zghvLuOrbiMX"
      },
      "execution_count": 20,
      "outputs": []
    },
    {
      "cell_type": "markdown",
      "source": [
        "### 💢 PCA"
      ],
      "metadata": {
        "id": "bjV82-NnNCmK"
      }
    },
    {
      "cell_type": "code",
      "source": [
        "from sklearn.decomposition import PCA\n",
        "\n",
        "X_dense = X_tfidf.toarray()\n",
        "pca = PCA(n_components=0.95)\n",
        "X_pca = pca.fit_transform(X_dense)\n",
        "\n",
        "# I like pretty colours too, but R^612 is kind of hard to graph...\n",
        "# ValueError: Shape of passed values is (1490, 612), indices imply (1490, 2)\n",
        "# pca_df = pd.DataFrame(X_pca, columns=[\"PC1\", \"PC2\"])\n",
        "# pca_df['category'] = data['category'].values\n",
        "\n",
        "# # Plot\n",
        "# plt.figure(figsize=(10, 6))\n",
        "# sns.scatterplot(data=pca_df, x=\"PC1\", y=\"PC2\", hue=\"category\", palette=palette)\n",
        "# plt.title(\"TF-IDF Text Data Reduced with PCA\")\n",
        "# plt.tight_layout()\n",
        "# plt.show()"
      ],
      "metadata": {
        "id": "SIXjQW_BNZgw"
      },
      "execution_count": 24,
      "outputs": []
    },
    {
      "cell_type": "markdown",
      "source": [
        "## 🧠 Matrix Factorization Model"
      ],
      "metadata": {
        "id": "ifsvhfuTb44u"
      }
    },
    {
      "cell_type": "code",
      "source": [
        "from sklearn.decomposition import NMF\n",
        "\n",
        "nmf = NMF(\n",
        "    n_components=5,\n",
        "    random_state=42069 # Nice\n",
        "    )\n",
        "\n",
        "# Fit the model\n",
        "W = nmf.fit_transform(X_tfidf)  # Document-topic matrix # shape: (n_samples, 5)\n",
        "H = nmf.components_             # Topic-word matrix\n",
        "\n",
        "# Top Words per Category\n",
        "feature_names = vectorizer.get_feature_names_out()\n",
        "\n",
        "for topic_idx, topic in enumerate(H):\n",
        "    top_features = [feature_names[i] for i in topic.argsort()[-10:][::-1]]\n",
        "    print(f\"Topic {topic_idx + 1}: {', '.join(top_features)}\")"
      ],
      "metadata": {
        "colab": {
          "base_uri": "https://localhost:8080/"
        },
        "id": "iMlmxJCXMbrB",
        "outputId": "2c62a25e-13e4-4a7c-8905-150611ddeb2a"
      },
      "execution_count": 25,
      "outputs": [
        {
          "output_type": "stream",
          "name": "stdout",
          "text": [
            "Topic 1: mr, labour, blair, election, said, party, brown, government, minister, prime\n",
            "Topic 2: game, england, win, said, cup, wales, ireland, players, play, match\n",
            "Topic 3: bn, said, growth, market, year, firm, economy, company, shares, sales\n",
            "Topic 4: film, best, awards, award, actor, actress, films, director, festival, won\n",
            "Topic 5: people, mobile, said, music, technology, phone, software, users, digital, microsoft\n"
          ]
        }
      ]
    },
    {
      "cell_type": "markdown",
      "source": [
        "### 🧜‍♂️ Train the Classifier"
      ],
      "metadata": {
        "id": "yfdB6Q31QN7W"
      }
    },
    {
      "cell_type": "code",
      "source": [
        "from sklearn.linear_model import LogisticRegression\n",
        "from sklearn.model_selection import train_test_split\n",
        "from sklearn.metrics import classification_report\n",
        "\n",
        "# Prepare data\n",
        "X_train, X_test, y_train, y_test = train_test_split(W, data['category'], test_size=0.2, random_state=42)\n",
        "\n",
        "# Train classifier\n",
        "clf = LogisticRegression(max_iter=1000)\n",
        "clf.fit(X_train, y_train)\n",
        "\n",
        "# Predict and evaluate\n",
        "y_pred = clf.predict(X_test)\n",
        "print(classification_report(y_test, y_pred))"
      ],
      "metadata": {
        "colab": {
          "base_uri": "https://localhost:8080/"
        },
        "id": "392cr9VQQT2X",
        "outputId": "b0743e8a-5ab0-420c-d815-5439d75188a5"
      },
      "execution_count": 28,
      "outputs": [
        {
          "output_type": "stream",
          "name": "stdout",
          "text": [
            "               precision    recall  f1-score   support\n",
            "\n",
            "     business       0.92      0.95      0.93        75\n",
            "entertainment       0.95      0.83      0.88        46\n",
            "     politics       0.89      0.89      0.89        56\n",
            "        sport       0.93      1.00      0.96        63\n",
            "         tech       0.89      0.88      0.89        58\n",
            "\n",
            "     accuracy                           0.92       298\n",
            "    macro avg       0.92      0.91      0.91       298\n",
            " weighted avg       0.92      0.92      0.92       298\n",
            "\n"
          ]
        }
      ]
    },
    {
      "cell_type": "markdown",
      "source": [
        "### 🧂 Confusion Matrix"
      ],
      "metadata": {
        "id": "xGnHmSoDP1C-"
      }
    },
    {
      "cell_type": "code",
      "source": [
        "from sklearn.metrics import ConfusionMatrixDisplay\n",
        "\n",
        "ConfusionMatrixDisplay.from_predictions(y_test, y_pred, xticks_rotation=45, cmap='Blues')\n",
        "plt.title(\"Confusion Matrix - NMF + Logistic Regression\")\n",
        "plt.tight_layout()\n",
        "plt.show()"
      ],
      "metadata": {
        "colab": {
          "base_uri": "https://localhost:8080/",
          "height": 486
        },
        "id": "fqi0ZlduP4--",
        "outputId": "2fa2eae0-c394-4358-d40c-ccba5986761e"
      },
      "execution_count": 38,
      "outputs": [
        {
          "output_type": "display_data",
          "data": {
            "text/plain": [
              "<Figure size 640x480 with 2 Axes>"
            ],
            "image/png": "[encoded data removed]"
          },
          "metadata": {}
        }
      ]
    },
    {
      "cell_type": "markdown",
      "source": [
        "- Justify if the test set should be included in matrix factorization\n",
        "- Apply matrix factorization (e.g., NMF from `sklearn`)\n",
        "- Train model on training set\n",
        "- Evaluate performance: accuracy, confusion matrix\n",
        "- Submit to Kaggle (save predictions as CSV)\n",
        "- Experiment with hyperparameters"
      ],
      "metadata": {
        "id": "RN5Y3youb8_s"
      }
    },
    {
      "cell_type": "markdown",
      "source": [
        "### 🏇 Apply Matrix Factorization using NMF from `sklearn`"
      ],
      "metadata": {
        "id": "gzNOH_Wzc34b"
      }
    }
  ]
}